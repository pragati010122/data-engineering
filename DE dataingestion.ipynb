{
 "cells": [
  {
   "cell_type": "code",
   "execution_count": 1,
   "id": "c0a25410",
   "metadata": {},
   "outputs": [
    {
     "name": "stdout",
     "output_type": "stream",
     "text": [
      "6.13.1\n"
     ]
    }
   ],
   "source": [
    "import snowflake.connector\n",
    "cnn = snowflake.connector.connect(\n",
    "        user='SAIPRIYA',\n",
    "        password='Priya@123',\n",
    "        account='kw25469.ap-south-1.aws'\n",
    "        )\n",
    "cs = cnn.cursor()\n",
    "try:\n",
    "    cs.execute('select current_version()')\n",
    "    row = cs.fetchone()\n",
    "    print(row[0])\n",
    "finally:\n",
    "    cs.close()\n",
    "cnn.close()"
   ]
  },
  {
   "cell_type": "code",
   "execution_count": 2,
   "id": "d56d3574",
   "metadata": {},
   "outputs": [
    {
     "name": "stdout",
     "output_type": "stream",
     "text": [
      "Requirement already satisfied: snowflake-connector-python in c:\\users\\saimandapati\\anaconda3\\lib\\site-packages (2.7.3)\n",
      "Requirement already satisfied: requests<3.0.0 in c:\\users\\saimandapati\\anaconda3\\lib\\site-packages (from snowflake-connector-python) (2.26.0)\n",
      "Requirement already satisfied: pycryptodomex!=3.5.0,<4.0.0,>=3.2 in c:\\users\\saimandapati\\anaconda3\\lib\\site-packages (from snowflake-connector-python) (3.14.1)\n",
      "Requirement already satisfied: certifi>=2017.4.17 in c:\\users\\saimandapati\\anaconda3\\lib\\site-packages (from snowflake-connector-python) (2021.10.8)\n",
      "Requirement already satisfied: pyjwt<3.0.0 in c:\\users\\saimandapati\\anaconda3\\lib\\site-packages (from snowflake-connector-python) (2.1.0)\n",
      "Requirement already satisfied: asn1crypto<2.0.0,>0.24.0 in c:\\users\\saimandapati\\anaconda3\\lib\\site-packages (from snowflake-connector-python) (1.5.1)\n",
      "Requirement already satisfied: oscrypto<2.0.0 in c:\\users\\saimandapati\\anaconda3\\lib\\site-packages (from snowflake-connector-python) (1.3.0)\n",
      "Requirement already satisfied: idna<4,>=2.5 in c:\\users\\saimandapati\\anaconda3\\lib\\site-packages (from snowflake-connector-python) (3.2)\n",
      "Requirement already satisfied: cffi<2.0.0,>=1.9 in c:\\users\\saimandapati\\anaconda3\\lib\\site-packages (from snowflake-connector-python) (1.14.6)\n",
      "Requirement already satisfied: pytz in c:\\users\\saimandapati\\anaconda3\\lib\\site-packages (from snowflake-connector-python) (2021.3)\n",
      "Requirement already satisfied: setuptools>34.0.0 in c:\\users\\saimandapati\\anaconda3\\lib\\site-packages (from snowflake-connector-python) (58.0.4)\n",
      "Requirement already satisfied: charset-normalizer~=2.0.0 in c:\\users\\saimandapati\\anaconda3\\lib\\site-packages (from snowflake-connector-python) (2.0.4)\n",
      "Requirement already satisfied: pyOpenSSL<22.0.0,>=16.2.0 in c:\\users\\saimandapati\\anaconda3\\lib\\site-packages (from snowflake-connector-python) (21.0.0)\n",
      "Requirement already satisfied: cryptography<37.0.0,>=3.1.0 in c:\\users\\saimandapati\\anaconda3\\lib\\site-packages (from snowflake-connector-python) (3.4.8)\n",
      "Requirement already satisfied: pycparser in c:\\users\\saimandapati\\anaconda3\\lib\\site-packages (from cffi<2.0.0,>=1.9->snowflake-connector-python) (2.20)\n",
      "Requirement already satisfied: six>=1.5.2 in c:\\users\\saimandapati\\anaconda3\\lib\\site-packages (from pyOpenSSL<22.0.0,>=16.2.0->snowflake-connector-python) (1.16.0)\n",
      "Requirement already satisfied: urllib3<1.27,>=1.21.1 in c:\\users\\saimandapati\\anaconda3\\lib\\site-packages (from requests<3.0.0->snowflake-connector-python) (1.26.7)\n",
      "Note: you may need to restart the kernel to use updated packages.\n"
     ]
    }
   ],
   "source": [
    "pip install snowflake-connector-python\n"
   ]
  },
  {
   "cell_type": "code",
   "execution_count": 3,
   "id": "7193c958",
   "metadata": {},
   "outputs": [
    {
     "name": "stdout",
     "output_type": "stream",
     "text": [
      "Requirement already satisfied: pyarrow==6.0.0 in c:\\users\\saimandapati\\anaconda3\\lib\\site-packages (6.0.0)\n",
      "Requirement already satisfied: numpy>=1.16.6 in c:\\users\\saimandapati\\anaconda3\\lib\\site-packages (from pyarrow==6.0.0) (1.22.3)\n",
      "Note: you may need to restart the kernel to use updated packages.\n"
     ]
    }
   ],
   "source": [
    "pip install pyarrow==6.0.0"
   ]
  },
  {
   "cell_type": "code",
   "execution_count": 4,
   "id": "f0b6efc5",
   "metadata": {},
   "outputs": [
    {
     "name": "stdout",
     "output_type": "stream",
     "text": [
      "Requirement already satisfied: fastparquet in c:\\users\\saimandapati\\anaconda3\\lib\\site-packages (0.8.1)\n",
      "Requirement already satisfied: fsspec in c:\\users\\saimandapati\\anaconda3\\lib\\site-packages (from fastparquet) (2022.3.0)\n",
      "Requirement already satisfied: cramjam>=2.3.0 in c:\\users\\saimandapati\\anaconda3\\lib\\site-packages (from fastparquet) (2.5.0)\n",
      "Requirement already satisfied: pandas>=1.1.0 in c:\\users\\saimandapati\\anaconda3\\lib\\site-packages (from fastparquet) (1.3.4)\n",
      "Requirement already satisfied: numpy>=1.18 in c:\\users\\saimandapati\\anaconda3\\lib\\site-packages (from fastparquet) (1.22.3)\n",
      "Requirement already satisfied: pytz>=2017.3 in c:\\users\\saimandapati\\anaconda3\\lib\\site-packages (from pandas>=1.1.0->fastparquet) (2021.3)\n",
      "Requirement already satisfied: python-dateutil>=2.7.3 in c:\\users\\saimandapati\\anaconda3\\lib\\site-packages (from pandas>=1.1.0->fastparquet) (2.8.2)\n",
      "Requirement already satisfied: six>=1.5 in c:\\users\\saimandapati\\anaconda3\\lib\\site-packages (from python-dateutil>=2.7.3->pandas>=1.1.0->fastparquet) (1.16.0)\n",
      "Note: you may need to restart the kernel to use updated packages.\n"
     ]
    }
   ],
   "source": [
    "pip install fastparquet"
   ]
  },
  {
   "cell_type": "code",
   "execution_count": 1,
   "id": "e83f3335",
   "metadata": {},
   "outputs": [
    {
     "name": "stdout",
     "output_type": "stream",
     "text": [
      "6.13.1\n",
      "creating warehouse..\n",
      "creating database..\n",
      "using database..\n",
      "creating schema..\n",
      "creation complete.\n"
     ]
    }
   ],
   "source": [
    "import snowflake.connector\n",
    "cnn = snowflake.connector.connect(\n",
    "        user='SAIPRIYA',\n",
    "        password='Priya@123',\n",
    "        account='kw25469.ap-south-1.aws'\n",
    "        )\n",
    "cs = cnn.cursor()\n",
    "try:\n",
    "    cs.execute('select current_version()')\n",
    "    row = cs.fetchone()\n",
    "    print(row[0])\n",
    "    print('creating warehouse..')\n",
    "    sql = \"CREATE WAREHOUSE IF NOT EXISTS project_warehouse\"\n",
    "    cs.execute(sql)\n",
    "    print('creating database..')\n",
    "    sql = \"CREATE DATABASE IF NOT EXISTS project_database\"\n",
    "    cs.execute(sql)\n",
    "    print('using database..')\n",
    "    sql = \"USE DATABASE project_database\"\n",
    "    cs.execute(sql)\n",
    "    print('creating schema..')\n",
    "    sql = \"CREATE SCHEMA IF NOT EXISTS project_schema\"\n",
    "    cs.execute(sql)\n",
    "    print('creation complete.')\n",
    "finally:\n",
    "    cs.close()\n",
    "cnn.close()"
   ]
  },
  {
   "cell_type": "code",
   "execution_count": 2,
   "id": "0bf2927b",
   "metadata": {},
   "outputs": [
    {
     "name": "stdout",
     "output_type": "stream",
     "text": [
      "opening..\n",
      "                        TIME  generation biomass  \\\n",
      "0  2015-01-01 00:00:00+01:00               447.0   \n",
      "1  2015-01-01 01:00:00+01:00               449.0   \n",
      "2  2015-01-01 02:00:00+01:00               448.0   \n",
      "3  2015-01-01 03:00:00+01:00               438.0   \n",
      "4  2015-01-01 04:00:00+01:00               428.0   \n",
      "5  2015-01-01 05:00:00+01:00               410.0   \n",
      "6  2015-01-01 06:00:00+01:00               401.0   \n",
      "7  2015-01-01 07:00:00+01:00               408.0   \n",
      "8  2015-01-01 08:00:00+01:00               413.0   \n",
      "9  2015-01-01 09:00:00+01:00               419.0   \n",
      "\n",
      "   generation fossile brown coal/lignite  generation fossile coal derived gas  \\\n",
      "0                                  329.0                                  0.0   \n",
      "1                                  328.0                                  0.0   \n",
      "2                                  323.0                                  0.0   \n",
      "3                                  254.0                                  0.0   \n",
      "4                                  187.0                                  0.0   \n",
      "5                                  178.0                                  0.0   \n",
      "6                                  172.0                                  0.0   \n",
      "7                                  172.0                                  0.0   \n",
      "8                                  177.0                                  0.0   \n",
      "9                                  177.0                                  0.0   \n",
      "\n",
      "   generation fossile gas  generation fossile hard coal  \\\n",
      "0                  4844.0                        4821.0   \n",
      "1                  5196.0                        4755.0   \n",
      "2                  4857.0                        4581.0   \n",
      "3                  4314.0                        4131.0   \n",
      "4                  4130.0                        3840.0   \n",
      "5                  4038.0                        3590.0   \n",
      "6                  4040.0                        3368.0   \n",
      "7                  4030.0                        3208.0   \n",
      "8                  4052.0                        3335.0   \n",
      "9                  4137.0                        3437.0   \n",
      "\n",
      "   generation fossile oil  generation fossile oil shale  \\\n",
      "0                   162.0                           0.0   \n",
      "1                   158.0                           0.0   \n",
      "2                   157.0                           0.0   \n",
      "3                   160.0                           0.0   \n",
      "4                   156.0                           0.0   \n",
      "5                   156.0                           0.0   \n",
      "6                   158.0                           0.0   \n",
      "7                   160.0                           0.0   \n",
      "8                   161.0                           0.0   \n",
      "9                   163.0                           0.0   \n",
      "\n",
      "   generation fossile peat  generation fossile geothermal  ...  \\\n",
      "0                      0.0                            0.0  ...   \n",
      "1                      0.0                            0.0  ...   \n",
      "2                      0.0                            0.0  ...   \n",
      "3                      0.0                            0.0  ...   \n",
      "4                      0.0                            0.0  ...   \n",
      "5                      0.0                            0.0  ...   \n",
      "6                      0.0                            0.0  ...   \n",
      "7                      0.0                            0.0  ...   \n",
      "8                      0.0                            0.0  ...   \n",
      "9                      0.0                            0.0  ...   \n",
      "\n",
      "   generation waste  generation wind offshore  generation wind onshore  \\\n",
      "0             196.0                       0.0                   6378.0   \n",
      "1             195.0                       0.0                   5890.0   \n",
      "2             196.0                       0.0                   5461.0   \n",
      "3             191.0                       0.0                   5238.0   \n",
      "4             189.0                       0.0                   4935.0   \n",
      "5             188.0                       0.0                   4618.0   \n",
      "6             186.0                       0.0                   4397.0   \n",
      "7             189.0                       0.0                   3992.0   \n",
      "8             198.0                       0.0                   3629.0   \n",
      "9             198.0                       0.0                   3073.0   \n",
      "\n",
      "   forecast solar day ahead  forecast wind offshore eday ahead  \\\n",
      "0                        17                                NaN   \n",
      "1                        16                                NaN   \n",
      "2                         8                                NaN   \n",
      "3                         2                                NaN   \n",
      "4                         9                                NaN   \n",
      "5                         4                                NaN   \n",
      "6                         3                                NaN   \n",
      "7                        12                                NaN   \n",
      "8                        39                                NaN   \n",
      "9                       784                                NaN   \n",
      "\n",
      "   forecast wind onshore day ahead  total load forecast  total load actual  \\\n",
      "0                             6436                26118            25385.0   \n",
      "1                             5856                24934            24382.0   \n",
      "2                             5454                23515            22734.0   \n",
      "3                             5151                22642            21286.0   \n",
      "4                             4861                21785            20264.0   \n",
      "5                             4617                21441            19905.0   \n",
      "6                             4276                21285            20010.0   \n",
      "7                             3994                21545            20377.0   \n",
      "8                             3602                21443            20094.0   \n",
      "9                             3212                21560            20637.0   \n",
      "\n",
      "   price day ahead  price actual  \n",
      "0            50.10         65.41  \n",
      "1            48.10         64.92  \n",
      "2            47.33         64.48  \n",
      "3            42.27         59.32  \n",
      "4            38.41         56.04  \n",
      "5            35.72         53.63  \n",
      "6            35.13         51.73  \n",
      "7            36.22         51.43  \n",
      "8            32.40         48.98  \n",
      "9            36.60         54.20  \n",
      "\n",
      "[10 rows x 29 columns]\n",
      "opening snowflake..\n",
      "True,1,35064\n",
      "done.\n"
     ]
    }
   ],
   "source": [
    "import snowflake.connector\n",
    "from snowflake.connector.pandas_tools import write_pandas\n",
    "import pandas as pd\n",
    "\n",
    "print('opening..')\n",
    "df = pd.read_csv(\"C:/Users/SaiMandapati/Downloads/energy_dataset.csv\", sep=',', header=0, index_col=False)\n",
    "df.reset_index(drop=True, inplace=True)\n",
    "print(df.head(10))\n",
    "print('opening snowflake..')\n",
    "cnn = snowflake.connector.connect(\n",
    "     user='SAIPRIYA',\n",
    "     password='Priya@123',\n",
    "     account='kw25469.ap-south-1.aws',\n",
    "     warehouse='project_warehouse',\n",
    "     database='project_database',\n",
    "     schema='project_schema'\n",
    "    )\n",
    "success, nchunks, nrows, _ = write_pandas(cnn, df, 'PROJECT_TABLE1', quote_identifiers=True)\n",
    "print(str(success) + ',' + str(nchunks) + ',' + str(nrows))\n",
    "cnn.close()\n",
    "print('done.')"
   ]
  },
  {
   "cell_type": "code",
   "execution_count": 3,
   "id": "c3ae700c",
   "metadata": {},
   "outputs": [
    {
     "name": "stdout",
     "output_type": "stream",
     "text": [
      "opening..\n",
      "                      dt_iso city_name     temp  temp_min  temp_max  pressure  \\\n",
      "0  2015-01-01 00:00:00+01:00  Valencia  270.475   270.475   270.475      1001   \n",
      "1  2015-01-01 01:00:00+01:00  Valencia  270.475   270.475   270.475      1001   \n",
      "2  2015-01-01 02:00:00+01:00  Valencia  269.686   269.686   269.686      1002   \n",
      "3  2015-01-01 03:00:00+01:00  Valencia  269.686   269.686   269.686      1002   \n",
      "4  2015-01-01 04:00:00+01:00  Valencia  269.686   269.686   269.686      1002   \n",
      "5  2015-01-01 05:00:00+01:00  Valencia  270.292   270.292   270.292      1004   \n",
      "6  2015-01-01 06:00:00+01:00  Valencia  270.292   270.292   270.292      1004   \n",
      "7  2015-01-01 07:00:00+01:00  Valencia  270.292   270.292   270.292      1004   \n",
      "8  2015-01-01 08:00:00+01:00  Valencia  274.601   274.601   274.601      1005   \n",
      "9  2015-01-01 09:00:00+01:00  Valencia  274.601   274.601   274.601      1005   \n",
      "\n",
      "   humidity  wind_speed  wind_deg  rain_1h  rain_3h  snow_3h  clouds_all  \\\n",
      "0        77           1        62      0.0      0.0      0.0           0   \n",
      "1        77           1        62      0.0      0.0      0.0           0   \n",
      "2        78           0        23      0.0      0.0      0.0           0   \n",
      "3        78           0        23      0.0      0.0      0.0           0   \n",
      "4        78           0        23      0.0      0.0      0.0           0   \n",
      "5        71           2       321      0.0      0.0      0.0           0   \n",
      "6        71           2       321      0.0      0.0      0.0           0   \n",
      "7        71           2       321      0.0      0.0      0.0           0   \n",
      "8        71           1       307      0.0      0.0      0.0           0   \n",
      "9        71           1       307      0.0      0.0      0.0           0   \n",
      "\n",
      "   weather_id weather_main weather_description weather_icon  \n",
      "0         800        clear        sky is clear          01n  \n",
      "1         800        clear        sky is clear          01n  \n",
      "2         800        clear        sky is clear          01n  \n",
      "3         800        clear        sky is clear          01n  \n",
      "4         800        clear        sky is clear          01n  \n",
      "5         800        clear        sky is clear          01n  \n",
      "6         800        clear        sky is clear          01n  \n",
      "7         800        clear        sky is clear          01n  \n",
      "8         800        clear        sky is clear          01d  \n",
      "9         800        clear        sky is clear          01d  \n",
      "opening snowflake..\n",
      "True,1,178396\n",
      "done.\n"
     ]
    }
   ],
   "source": [
    "import snowflake.connector\n",
    "from snowflake.connector.pandas_tools import write_pandas\n",
    "import pandas as pd\n",
    "\n",
    "print('opening..')\n",
    "df = pd.read_csv(\"C:/Users/SaiMandapati/Downloads/weather_features.csv\", sep=',', header=0, index_col=False)\n",
    "df.reset_index(drop=True, inplace=True)\n",
    "print(df.head(10))\n",
    "print('opening snowflake..')\n",
    "cnn = snowflake.connector.connect(\n",
    "     user='SAIPRIYA',\n",
    "     password='Priya@123',\n",
    "     account='kw25469.ap-south-1.aws',\n",
    "     warehouse='project_warehouse',\n",
    "     database='project_database',\n",
    "     schema='project_schema'\n",
    "    )\n",
    "success, nchunks, nrows, _ = write_pandas(cnn, df, 'PROJECT_TABLE2', quote_identifiers=False)\n",
    "print(str(success) + ',' + str(nchunks) + ',' + str(nrows))\n",
    "cnn.close()\n",
    "print('done.')"
   ]
  },
  {
   "cell_type": "code",
   "execution_count": null,
   "id": "acbf01bb",
   "metadata": {},
   "outputs": [],
   "source": []
  }
 ],
 "metadata": {
  "kernelspec": {
   "display_name": "Python 3 (ipykernel)",
   "language": "python",
   "name": "python3"
  },
  "language_info": {
   "codemirror_mode": {
    "name": "ipython",
    "version": 3
   },
   "file_extension": ".py",
   "mimetype": "text/x-python",
   "name": "python",
   "nbconvert_exporter": "python",
   "pygments_lexer": "ipython3",
   "version": "3.9.7"
  }
 },
 "nbformat": 4,
 "nbformat_minor": 5
}
